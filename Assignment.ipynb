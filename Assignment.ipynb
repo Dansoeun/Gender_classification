{
 "cells": [
  {
   "cell_type": "code",
   "execution_count": 10,
   "metadata": {},
   "outputs": [],
   "source": [
    "import numpy as np\n",
    "import pandas as pd\n",
    "import matplotlib.pyplot as plt\n",
    "import tensorflow as tf\n",
    "from keras import layers, models\n",
    "from sklearn.utils import shuffle\n",
    "import cv2\n",
    "import keras\n",
    "from tensorflow.keras.preprocessing.image import ImageDataGenerator"
   ]
  },
  {
   "cell_type": "code",
   "execution_count": 11,
   "metadata": {},
   "outputs": [],
   "source": [
    "df=pd.read_csv(\"/raid/coss35/nahyun/study/dataset/ageutk_full.csv\")"
   ]
  },
  {
   "cell_type": "code",
   "execution_count": 12,
   "metadata": {},
   "outputs": [
    {
     "data": {
      "text/html": [
       "<div>\n",
       "<style scoped>\n",
       "    .dataframe tbody tr th:only-of-type {\n",
       "        vertical-align: middle;\n",
       "    }\n",
       "\n",
       "    .dataframe tbody tr th {\n",
       "        vertical-align: top;\n",
       "    }\n",
       "\n",
       "    .dataframe thead th {\n",
       "        text-align: right;\n",
       "    }\n",
       "</style>\n",
       "<table border=\"1\" class=\"dataframe\">\n",
       "  <thead>\n",
       "    <tr style=\"text-align: right;\">\n",
       "      <th></th>\n",
       "      <th>files</th>\n",
       "      <th>age</th>\n",
       "      <th>gender</th>\n",
       "    </tr>\n",
       "  </thead>\n",
       "  <tbody>\n",
       "    <tr>\n",
       "      <th>0</th>\n",
       "      <td>26_0_2_20170104023102422.jpg.chip.jpg</td>\n",
       "      <td>26</td>\n",
       "      <td>0</td>\n",
       "    </tr>\n",
       "    <tr>\n",
       "      <th>1</th>\n",
       "      <td>22_1_1_20170112233644761.jpg.chip.jpg</td>\n",
       "      <td>22</td>\n",
       "      <td>1</td>\n",
       "    </tr>\n",
       "    <tr>\n",
       "      <th>2</th>\n",
       "      <td>21_1_3_20170105003215901.jpg.chip.jpg</td>\n",
       "      <td>21</td>\n",
       "      <td>1</td>\n",
       "    </tr>\n",
       "    <tr>\n",
       "      <th>3</th>\n",
       "      <td>28_0_0_20170117180555824.jpg.chip.jpg</td>\n",
       "      <td>28</td>\n",
       "      <td>0</td>\n",
       "    </tr>\n",
       "    <tr>\n",
       "      <th>5</th>\n",
       "      <td>44_0_3_20170119201022260.jpg.chip.jpg</td>\n",
       "      <td>44</td>\n",
       "      <td>0</td>\n",
       "    </tr>\n",
       "    <tr>\n",
       "      <th>...</th>\n",
       "      <td>...</td>\n",
       "      <td>...</td>\n",
       "      <td>...</td>\n",
       "    </tr>\n",
       "    <tr>\n",
       "      <th>23152</th>\n",
       "      <td>30_0_4_20170103235622469.jpg.chip.jpg</td>\n",
       "      <td>30</td>\n",
       "      <td>0</td>\n",
       "    </tr>\n",
       "    <tr>\n",
       "      <th>23153</th>\n",
       "      <td>38_1_2_20170109132801338.jpg.chip.jpg</td>\n",
       "      <td>38</td>\n",
       "      <td>1</td>\n",
       "    </tr>\n",
       "    <tr>\n",
       "      <th>23159</th>\n",
       "      <td>26_1_0_20170111182452795.jpg.chip.jpg</td>\n",
       "      <td>26</td>\n",
       "      <td>1</td>\n",
       "    </tr>\n",
       "    <tr>\n",
       "      <th>23163</th>\n",
       "      <td>41_0_0_20170109012220690.jpg.chip.jpg</td>\n",
       "      <td>41</td>\n",
       "      <td>0</td>\n",
       "    </tr>\n",
       "    <tr>\n",
       "      <th>23164</th>\n",
       "      <td>42_0_0_20170117185738076.jpg.chip.jpg</td>\n",
       "      <td>42</td>\n",
       "      <td>0</td>\n",
       "    </tr>\n",
       "  </tbody>\n",
       "</table>\n",
       "<p>14126 rows × 3 columns</p>\n",
       "</div>"
      ],
      "text/plain": [
       "                                       files  age  gender\n",
       "0      26_0_2_20170104023102422.jpg.chip.jpg   26       0\n",
       "1      22_1_1_20170112233644761.jpg.chip.jpg   22       1\n",
       "2      21_1_3_20170105003215901.jpg.chip.jpg   21       1\n",
       "3      28_0_0_20170117180555824.jpg.chip.jpg   28       0\n",
       "5      44_0_3_20170119201022260.jpg.chip.jpg   44       0\n",
       "...                                      ...  ...     ...\n",
       "23152  30_0_4_20170103235622469.jpg.chip.jpg   30       0\n",
       "23153  38_1_2_20170109132801338.jpg.chip.jpg   38       1\n",
       "23159  26_1_0_20170111182452795.jpg.chip.jpg   26       1\n",
       "23163  41_0_0_20170109012220690.jpg.chip.jpg   41       0\n",
       "23164  42_0_0_20170117185738076.jpg.chip.jpg   42       0\n",
       "\n",
       "[14126 rows x 3 columns]"
      ]
     },
     "execution_count": 12,
     "metadata": {},
     "output_type": "execute_result"
    }
   ],
   "source": [
    "df.loc[(df.age<=49) & (df.age>=20), ['files','age','gender']]"
   ]
  },
  {
   "cell_type": "code",
   "execution_count": 19,
   "metadata": {},
   "outputs": [],
   "source": [
    "data=df['files']\n",
    "target=df['gender']"
   ]
  },
  {
   "cell_type": "code",
   "execution_count": 20,
   "metadata": {},
   "outputs": [],
   "source": [
    "xtrain = []\n",
    "\n",
    "#기본 파일 경로 가져오기 \n",
    "base_path = \"/raid/coss35/nahyun/study/dataset/UTKFace/UTKFace/UTKFace/\"\n",
    "\n",
    "for i in range(len(data)):\n",
    "    image_path = base_path + data.iloc[i]\n",
    "    image = cv2.imread(image_path, cv2.IMREAD_COLOR)  # 컬러 이미지로 읽기\n",
    "    image = cv2.cvtColor(image, cv2.COLOR_BGR2RGB)  # BGR에서 RGB로 변환\n",
    "    image = cv2.resize(image, (224, 224))\n",
    "    image = image.astype(np.float32) / 255.0  # 정규화\n",
    "    xtrain.append(image)\n",
    "\n",
    "x_img_np = np.array(xtrain)"
   ]
  },
  {
   "cell_type": "code",
   "execution_count": 21,
   "metadata": {},
   "outputs": [],
   "source": [
    "target=target.to_numpy()"
   ]
  },
  {
   "cell_type": "code",
   "execution_count": 22,
   "metadata": {},
   "outputs": [],
   "source": [
    "from sklearn.model_selection import train_test_split\n",
    "\n",
    "x_train, x_test, y_train, y_test = train_test_split(x_img_np, target, test_size=0.3, stratify=target) #random_state=2018)"
   ]
  },
  {
   "cell_type": "code",
   "execution_count": 23,
   "metadata": {},
   "outputs": [
    {
     "name": "stderr",
     "output_type": "stream",
     "text": [
      "/tmp/ipykernel_1953907/2674610152.py:29: UserWarning: `Model.fit_generator` is deprecated and will be removed in a future version. Please use `Model.fit`, which supports generators.\n",
      "  hist=model.fit_generator(generator.flow(x_train,y_train,batch_size=128),epochs=5,validation_data=(x_test,y_test))\n"
     ]
    },
    {
     "name": "stdout",
     "output_type": "stream",
     "text": [
      "Epoch 1/5\n",
      "127/127 [==============================] - 1018s 8s/step - loss: 0.6239 - accuracy: 0.6790 - val_loss: 0.4568 - val_accuracy: 0.7908\n",
      "Epoch 2/5\n",
      "127/127 [==============================] - 948s 7s/step - loss: 0.4786 - accuracy: 0.7727 - val_loss: 0.4190 - val_accuracy: 0.8038\n",
      "Epoch 3/5\n",
      "127/127 [==============================] - 948s 7s/step - loss: 0.4536 - accuracy: 0.7879 - val_loss: 0.3877 - val_accuracy: 0.8229\n",
      "Epoch 4/5\n",
      "127/127 [==============================] - 947s 7s/step - loss: 0.4333 - accuracy: 0.7988 - val_loss: 0.3872 - val_accuracy: 0.8292\n",
      "Epoch 5/5\n",
      "127/127 [==============================] - 944s 7s/step - loss: 0.4032 - accuracy: 0.8178 - val_loss: 0.3671 - val_accuracy: 0.8343\n"
     ]
    }
   ],
   "source": [
    "# Model Creation\n",
    "model = models.Sequential()\n",
    "\n",
    "# First Convolutional Block\n",
    "model.add(layers.Conv2D(32, (3, 3), activation='relu', input_shape=(224,224,3)))\n",
    "model.add(layers.MaxPooling2D((2, 2)))\n",
    "\n",
    "# Second Convolutional Block\n",
    "model.add(layers.Conv2D(64, (3, 3), activation='relu'))\n",
    "model.add(layers.MaxPooling2D((2, 2)))\n",
    "\n",
    "# Third Convolutional Block\n",
    "model.add(layers.Conv2D(128, (3, 3), activation='relu'))\n",
    "model.add(layers.MaxPooling2D((2, 2)))\n",
    "\n",
    "# Flatten and Dense Layers\n",
    "model.add(layers.Flatten())\n",
    "model.add(layers.Dense(128, activation='relu'))\n",
    "model.add(layers.Dropout(0.5))\n",
    "model.add(layers.Dense(1, activation='sigmoid'))  # Binary classification output\n",
    "\n",
    "# Compile the model\n",
    "model.compile(optimizer='adam',\n",
    "              loss='binary_crossentropy',\n",
    "              metrics=['accuracy'])\n",
    "\n",
    "generator=ImageDataGenerator(width_shift_range=0.1, height_shift_range=0.1, horizontal_flip=True)\n",
    "\n",
    "hist=model.fit_generator(generator.flow(x_train,y_train,batch_size=128),epochs=5,validation_data=(x_test,y_test))"
   ]
  },
  {
   "cell_type": "code",
   "execution_count": 24,
   "metadata": {},
   "outputs": [
    {
     "name": "stderr",
     "output_type": "stream",
     "text": [
      "/raid/coss35/anaconda3/envs/finetun/lib/python3.8/site-packages/keras/src/engine/training.py:3000: UserWarning: You are saving your model as an HDF5 file via `model.save()`. This file format is considered legacy. We recommend using instead the native Keras format, e.g. `model.save('my_model.keras')`.\n",
      "  saving_api.save_model(\n"
     ]
    }
   ],
   "source": [
    "model.save(\"CNN_Augmentation_model.h5\")"
   ]
  },
  {
   "cell_type": "code",
   "execution_count": 25,
   "metadata": {},
   "outputs": [
    {
     "data": {
      "image/png": "[encoded data removed]",
      "text/plain": [
       "<Figure size 1800x600 with 2 Axes>"
      ]
     },
     "metadata": {},
     "output_type": "display_data"
    }
   ],
   "source": [
    "plt.figure(figsize=(18,6))\n",
    "\n",
    "plt.subplot(1,2,1)\n",
    "plt.plot(hist.history['loss'], color=\"blue\", label = \"Loss\")\n",
    "plt.plot(hist.history['val_loss'], color=\"orange\", label = \"Validation Loss\")\n",
    "plt.ylabel(\"Loss\")\n",
    "plt.xlabel(\"Number of Epochs\")\n",
    "plt.legend()\n",
    "\n",
    "plt.subplot(1,2,2)\n",
    "plt.plot(hist.history['accuracy'], color=\"green\", label = \"Accuracy\")\n",
    "plt.plot(hist.history['val_accuracy'], color=\"red\", label = \"Validation Accuracy\")\n",
    "plt.ylabel(\"Accuracy\")\n",
    "plt.xlabel(\"Number of Epochs\")\n",
    "plt.legend()\n",
    "\n",
    "plt.show()"
   ]
  },
  {
   "cell_type": "code",
   "execution_count": 3,
   "metadata": {},
   "outputs": [
    {
     "name": "stderr",
     "output_type": "stream",
     "text": [
      "2024-11-23 16:21:35.756714: I tensorflow/core/util/port.cc:110] oneDNN custom operations are on. You may see slightly different numerical results due to floating-point round-off errors from different computation orders. To turn them off, set the environment variable `TF_ENABLE_ONEDNN_OPTS=0`.\n",
      "2024-11-23 16:21:35.829950: I tensorflow/core/platform/cpu_feature_guard.cc:182] This TensorFlow binary is optimized to use available CPU instructions in performance-critical operations.\n",
      "To enable the following instructions: AVX2 AVX512F AVX512_VNNI FMA, in other operations, rebuild TensorFlow with the appropriate compiler flags.\n",
      "2024-11-23 16:21:36.550815: W tensorflow/compiler/tf2tensorrt/utils/py_utils.cc:38] TF-TRT Warning: Could not find TensorRT\n",
      "2024-11-23 16:21:38.212674: W tensorflow/core/common_runtime/gpu/gpu_device.cc:1960] Cannot dlopen some GPU libraries. Please make sure the missing libraries mentioned above are installed properly if you would like to use GPU. Follow the guide at https://www.tensorflow.org/install/gpu for how to download and setup the required libraries for your platform.\n",
      "Skipping registering GPU devices...\n"
     ]
    },
    {
     "name": "stdout",
     "output_type": "stream",
     "text": [
      "Model: \"sequential_5\"\n",
      "_________________________________________________________________\n",
      " Layer (type)                Output Shape              Param #   \n",
      "=================================================================\n",
      " conv2d_15 (Conv2D)          (None, 222, 222, 32)      896       \n",
      "                                                                 \n",
      " max_pooling2d_15 (MaxPooli  (None, 111, 111, 32)      0         \n",
      " ng2D)                                                           \n",
      "                                                                 \n",
      " conv2d_16 (Conv2D)          (None, 109, 109, 64)      18496     \n",
      "                                                                 \n",
      " max_pooling2d_16 (MaxPooli  (None, 54, 54, 64)        0         \n",
      " ng2D)                                                           \n",
      "                                                                 \n",
      " conv2d_17 (Conv2D)          (None, 52, 52, 128)       73856     \n",
      "                                                                 \n",
      " max_pooling2d_17 (MaxPooli  (None, 26, 26, 128)       0         \n",
      " ng2D)                                                           \n",
      "                                                                 \n",
      " flatten_5 (Flatten)         (None, 86528)             0         \n",
      "                                                                 \n",
      " dense_10 (Dense)            (None, 128)               11075712  \n",
      "                                                                 \n",
      " dropout_5 (Dropout)         (None, 128)               0         \n",
      "                                                                 \n",
      " dense_11 (Dense)            (None, 1)                 129       \n",
      "                                                                 \n",
      "=================================================================\n",
      "Total params: 11169089 (42.61 MB)\n",
      "Trainable params: 11169089 (42.61 MB)\n",
      "Non-trainable params: 0 (0.00 Byte)\n",
      "_________________________________________________________________\n"
     ]
    }
   ],
   "source": [
    "from keras.models import load_model\n",
    "\n",
    "model=load_model(\"CNN_Augmentation_model.h5\")\n",
    "model.summary()"
   ]
  },
  {
   "cell_type": "code",
   "execution_count": 9,
   "metadata": {},
   "outputs": [
    {
     "ename": "NameError",
     "evalue": "name 'x_test' is not defined",
     "output_type": "error",
     "traceback": [
      "\u001b[0;31m---------------------------------------------------------------------------\u001b[0m",
      "\u001b[0;31mNameError\u001b[0m                                 Traceback (most recent call last)",
      "Cell \u001b[0;32mIn[9], line 2\u001b[0m\n\u001b[1;32m      1\u001b[0m \u001b[38;5;66;03m# Evaluate the model\u001b[39;00m\n\u001b[0;32m----> 2\u001b[0m test_loss, test_acc \u001b[38;5;241m=\u001b[39m model\u001b[38;5;241m.\u001b[39mevaluate(\u001b[43mx_test\u001b[49m, y_test)\n",
      "\u001b[0;31mNameError\u001b[0m: name 'x_test' is not defined"
     ]
    }
   ],
   "source": [
    "# Evaluate the model\n",
    "test_loss, test_acc = model.evaluate(x_test, y_test)"
   ]
  },
  {
   "cell_type": "code",
   "execution_count": 38,
   "metadata": {},
   "outputs": [],
   "source": [
    "import cv2\n",
    "import numpy as np\n",
    "\n",
    "# 이미지 로드 \n",
    "image_path=\"/raid/coss35/nahyun/study/dataset/test4.png\"\n",
    "#image_path=\"/raid/coss35/nahyun/study/dataset/test2.jpg\"\n",
    "#image_path = \"/raid/coss35/nahyun/study/dataset/UTKFace/UTKFace/UTKFace/38_1_2_20170109132801338.jpg.chip.jpg\"\n",
    "image = cv2.imread(image_path, cv2.IMREAD_COLOR)  # 컬러 이미지로 읽기\n",
    "image = cv2.cvtColor(image, cv2.COLOR_BGR2RGB)  # BGR에서 RGB로 변환\n",
    "# 이미지 크기 확인 및 리사이징\n",
    "\n",
    "target_size = (224, 224)  # 모델에서 기대하는 입력 크기\n",
    "image_resized = cv2.resize(image, target_size)\n",
    "\n",
    "\n",
    "# 정규화 (픽셀 값을 0~1 사이로 스케일링)\n",
    "image_resized = image_resized.astype(np.float32) / 255.0\n",
    "\n",
    "# 배치 차원 추가 (1, 224, 224, 3)\n",
    "image_batch = np.expand_dims(image_resized, axis=0)"
   ]
  },
  {
   "cell_type": "code",
   "execution_count": 40,
   "metadata": {},
   "outputs": [
    {
     "name": "stdout",
     "output_type": "stream",
     "text": [
      "1/1 [==============================] - 0s 51ms/step\n",
      "[[0.8937755]]\n",
      "여자\n",
      "[1]\n"
     ]
    }
   ],
   "source": [
    "# Make predictions on the test set\n",
    "predictions = model.predict(image_batch)\n",
    "print(predictions)\n",
    "# 0 : man, 1 : female\n",
    "# For binary classification, you can use a threshold of 0.5\n",
    "pred_classes = (predictions > 0.5).astype(int).flatten()  # Flatten to 1D array\n",
    "\n",
    "if (pred_classes==1):\n",
    "    print(\"여자\")\n",
    "else:\n",
    "    print(\"남자\")\n",
    "print(pred_classes)"
   ]
  },
  {
   "cell_type": "markdown",
   "metadata": {},
   "source": [
    "---"
   ]
  },
  {
   "cell_type": "markdown",
   "metadata": {},
   "source": [
    "---\n",
    "### ResNet50 + GrandCAM"
   ]
  },
  {
   "cell_type": "code",
   "execution_count": 9,
   "metadata": {},
   "outputs": [
    {
     "name": "stderr",
     "output_type": "stream",
     "text": [
      "2024-11-23 00:15:26.042270: W tensorflow/core/common_runtime/gpu/gpu_device.cc:1960] Cannot dlopen some GPU libraries. Please make sure the missing libraries mentioned above are installed properly if you would like to use GPU. Follow the guide at https://www.tensorflow.org/install/gpu for how to download and setup the required libraries for your platform.\n",
      "Skipping registering GPU devices...\n"
     ]
    }
   ],
   "source": [
    "from tensorflow.keras.applications import resnet50,ResNet50\n",
    "from tensorflow.keras.preprocessing import image \n",
    "\n",
    "model=ResNet50(include_top=False,pooling='avg',input_shape=(224,224,3),weights='imagenet')\n",
    "model.trainable=False\n",
    "#model.summary()"
   ]
  },
  {
   "cell_type": "code",
   "execution_count": null,
   "metadata": {},
   "outputs": [],
   "source": [
    "from tensorflow.keras.layers import Dense, Flatten, MaxPooling2D\n",
    "from tensorflow.keras import datasets\n",
    "from tensorflow.keras.applications.resnet50 import preprocess_input\n",
    "from tensorflow.keras.applications.resnet50 import ResNet50\n",
    "from tensorflow.keras import Input\n",
    "from tensorflow.keras.layers import Dropout, BatchNormalization\n",
    "\n",
    "# Convert labels for binary classification\n",
    "input_y = np.where(y_train > 0, 1, 0)  # Convert labels to 0 or 1\n",
    "test_y = np.where(y_test > 0, 1, 0)    # Convert labels to 0 or 1\n",
    "\n",
    "# Update model layer design\n",
    "inputs = Input(shape=(224, 224, 3))\n",
    "x = tf.keras.applications.resnet50.preprocess_input(inputs)  # Use preprocess_input for ResNet50\n",
    "x = model(x, training=False)\n",
    "x = Flatten()(x)  # Flatten for fully connected layer\n",
    "outputs = Dense(2, activation='sigmoid')(x)  # 2-class softmax classifier\n",
    "model_res = tf.keras.Model(inputs, outputs)\n",
    "\n",
    "# 모델 컴파일 진행 - 아까와 달리 categorical_crossentropy 사용 > label이 숫자형 데이터이므로\n",
    "model_res.compile(optimizer = tf.keras.optimizers.Adam(learning_rate= 0.001),\n",
    "                  loss = 'binary_crossentropy',\n",
    "                  metrics=['accuracy'])\n",
    "\n",
    "generator=ImageDataGenerator(width_shift_range=0.1, height_shift_range=0.1, horizontal_flip=True)\n",
    "#Image data augmentation setting\n",
    "hist=model_res.fit_generator(generator.flow(x_train,y_train,batch_size=128),epoch=5,validation_data=(x_test,y_test))"
   ]
  },
  {
   "cell_type": "code",
   "execution_count": 15,
   "metadata": {},
   "outputs": [],
   "source": [
    "# 모델 컴파일 진행 - 아까와 달리 categorical_crossentropy 사용 > label이 숫자형 데이터이므로\n",
    "model_res.compile(optimizer = tf.keras.optimizers.Adam(learning_rate= 0.001),\n",
    "                  loss = 'binary_crossentropy',\n",
    "                  metrics=['accuracy'])"
   ]
  },
  {
   "cell_type": "code",
   "execution_count": null,
   "metadata": {},
   "outputs": [
    {
     "name": "stdout",
     "output_type": "stream",
     "text": [
      "Epoch 1/5\n",
      " 1/64 [..............................] - ETA: 37:19 - loss: 0.9619 - accuracy: 0.4492"
     ]
    }
   ],
   "source": [
    "# 모델 fitting\n",
    "history=model_res.fit(x_train, y_train, epochs = 5, validation_data=(x_test, y_test), batch_size= 256)"
   ]
  },
  {
   "cell_type": "code",
   "execution_count": null,
   "metadata": {},
   "outputs": [],
   "source": [
    "model_res.save(\"ResNet_Transfor_learning.h5\")"
   ]
  },
  {
   "cell_type": "code",
   "execution_count": null,
   "metadata": {},
   "outputs": [],
   "source": [
    "# Evaluate the model\n",
    "test_loss, test_acc = model.evaluate(x_test, y_test)"
   ]
  },
  {
   "cell_type": "code",
   "execution_count": null,
   "metadata": {},
   "outputs": [],
   "source": [
    "import matplotlib.pyplot as plt\n",
    "from tensorflow.keras.applications.resnet50 import decode_predictions\n",
    "\n",
    "for i in range(5):\n",
    "\n",
    "  inputs = x_test[i]\n",
    "  inputs = tf.expand_dims(inputs, axis=0)\n",
    "  x = tf.keras.layers.experimental.preprocessing.Resizing(224, 224)(inputs)\n",
    "  x = tf.keras.applications.resnet50.preprocess_input(x) \n",
    "\n",
    "  preds = model.predict(x)  # ResNet Model의 예측진행\n",
    "\n",
    "  # 예측 실행\n",
    "  fig= plt.figure(figsize=(3,3))\n",
    "  plt.title(decode_predictions(preds, top=1)[0][0][1])# 타이틀에 예측 명 1순위를 넣는다.\n",
    "  plt.imshow(x_test[i])\t# 이미지는 \n",
    "  plt.show()"
   ]
  },
  {
   "cell_type": "code",
   "execution_count": 53,
   "metadata": {},
   "outputs": [
    {
     "name": "stdout",
     "output_type": "stream",
     "text": [
      "218/218 [==============================] - 77s 354ms/step - loss: 0.6917 - accuracy: 0.5270\n"
     ]
    }
   ],
   "source": [
    "# Evaluate the model\n",
    "test_loss, test_acc = model.evaluate(x_test, y_test)"
   ]
  },
  {
   "cell_type": "code",
   "execution_count": null,
   "metadata": {},
   "outputs": [],
   "source": [
    "model.save(\"CNN_Augmentation_model.h5\")"
   ]
  },
  {
   "cell_type": "code",
   "execution_count": 40,
   "metadata": {},
   "outputs": [
    {
     "name": "stdout",
     "output_type": "stream",
     "text": [
      "Model: \"sequential\"\n",
      "_________________________________________________________________\n",
      " Layer (type)                Output Shape              Param #   \n",
      "=================================================================\n",
      " conv2d (Conv2D)             (None, 198, 198, 32)      320       \n",
      "                                                                 \n",
      " max_pooling2d (MaxPooling2  (None, 99, 99, 32)        0         \n",
      " D)                                                              \n",
      "                                                                 \n",
      " conv2d_1 (Conv2D)           (None, 97, 97, 64)        18496     \n",
      "                                                                 \n",
      " max_pooling2d_1 (MaxPoolin  (None, 48, 48, 64)        0         \n",
      " g2D)                                                            \n",
      "                                                                 \n",
      " conv2d_2 (Conv2D)           (None, 46, 46, 128)       73856     \n",
      "                                                                 \n",
      " max_pooling2d_2 (MaxPoolin  (None, 23, 23, 128)       0         \n",
      " g2D)                                                            \n",
      "                                                                 \n",
      " flatten (Flatten)           (None, 67712)             0         \n",
      "                                                                 \n",
      " dense (Dense)               (None, 128)               8667264   \n",
      "                                                                 \n",
      " dropout (Dropout)           (None, 128)               0         \n",
      "                                                                 \n",
      " dense_1 (Dense)             (None, 1)                 129       \n",
      "                                                                 \n",
      "=================================================================\n",
      "Total params: 8760065 (33.42 MB)\n",
      "Trainable params: 8760065 (33.42 MB)\n",
      "Non-trainable params: 0 (0.00 Byte)\n",
      "_________________________________________________________________\n"
     ]
    }
   ],
   "source": [
    "from keras.models import load_model\n",
    "\n",
    "model=load_model(\"CNN_model.h5\")\n",
    "model.summary()"
   ]
  },
  {
   "cell_type": "code",
   "execution_count": 44,
   "metadata": {},
   "outputs": [],
   "source": [
    "import cv2\n",
    "import numpy as np\n",
    "\n",
    "# 이미지 로드 (그레이스케일로 로드)\n",
    "image_path = \"/raid/coss35/nahyun/study/dataset/test.jpg\"\n",
    "image = cv2.imread(image_path, cv2.IMREAD_GRAYSCALE)\n",
    "\n",
    "# 이미지 크기 확인 및 리사이징\n",
    "target_size = (200, 200)  # 모델에서 기대하는 입력 크기\n",
    "image_resized = cv2.resize(image, target_size)\n",
    "\n",
    "# 차원을 추가하여 (200, 200) -> (200, 200, 1)로 만듦\n",
    "image_resized = np.expand_dims(image_resized, axis=-1)\n",
    "\n",
    "# 배치 차원을 추가하여 (200, 200, 1) -> (1, 200, 200, 1)로 만듦\n",
    "image_resized = np.expand_dims(image_resized, axis=0)\n",
    "\n",
    "# 정규화 (픽셀 값을 0~1 사이로 스케일링)\n",
    "image_resized = image_resized.astype(np.float32) / 255.0"
   ]
  },
  {
   "cell_type": "code",
   "execution_count": 45,
   "metadata": {},
   "outputs": [
    {
     "name": "stdout",
     "output_type": "stream",
     "text": [
      "1/1 [==============================] - 0s 32ms/step\n",
      "[0]\n"
     ]
    }
   ],
   "source": [
    "# Make predictions on the test set\n",
    "predictions = model.predict(image_resized)\n",
    "\n",
    "# 0 : man, 1 : female\n",
    "# For binary classification, you can use a threshold of 0.5\n",
    "pred_classes = (predictions > 0.5).astype(int).flatten()  # Flatten to 1D array\n",
    "print(pred_classes)"
   ]
  }
 ],
 "metadata": {
  "kernelspec": {
   "display_name": "finetun",
   "language": "python",
   "name": "python3"
  },
  "language_info": {
   "codemirror_mode": {
    "name": "ipython",
    "version": 3
   },
   "file_extension": ".py",
   "mimetype": "text/x-python",
   "name": "python",
   "nbconvert_exporter": "python",
   "pygments_lexer": "ipython3",
   "version": "3.8.18"
  }
 },
 "nbformat": 4,
 "nbformat_minor": 2
}
