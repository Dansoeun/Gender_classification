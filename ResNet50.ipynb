{
 "cells": [
  {
   "cell_type": "code",
   "execution_count": null,
   "metadata": {},
   "outputs": [],
   "source": [
    "from tensorflow.keras.applications import resnet50,ResNet50\n",
    "from tensorflow.keras.preprocessing import image \n",
    "\n",
    "model=ResNet50(include_top=False,pooling='avg',input_shape=(224,224,3),weights='imagenet')\n",
    "model.trainable=False"
   ]
  },
  {
   "cell_type": "code",
   "execution_count": null,
   "metadata": {},
   "outputs": [],
   "source": [
    "from tensorflow.keras.layers import Dense, Flatten, MaxPooling2D\n",
    "from tensorflow.keras import datasets\n",
    "from tensorflow.keras.applications.resnet50 import preprocess_input\n",
    "from tensorflow.keras.applications.resnet50 import ResNet50\n",
    "from tensorflow.keras import Input\n",
    "from tensorflow.keras.layers import Dropout, BatchNormalization\n",
    "\n",
    "# Convert labels for binary classification\n",
    "input_y = np.where(y_train > 0, 1, 0)  # Convert labels to 0 or 1\n",
    "test_y = np.where(y_test > 0, 1, 0)    # Convert labels to 0 or 1\n",
    "\n",
    "# Update model layer design\n",
    "inputs = Input(shape=(224, 224, 3))\n",
    "x = tf.keras.applications.resnet50.preprocess_input(inputs)  # Use preprocess_input for ResNet50\n",
    "x = model(x, training=False)\n",
    "x = Flatten()(x)  # Flatten for fully connected layer\n",
    "outputs = Dense(2, activation='sigmoid')(x)  # 2-class softmax classifier\n",
    "model_res = tf.keras.Model(inputs, outputs)\n",
    "\n",
    "# 모델 컴파일 진행 - 아까와 달리 categorical_crossentropy 사용 > label이 숫자형 데이터이므로\n",
    "model_res.compile(optimizer = tf.keras.optimizers.Adam(learning_rate= 0.001),\n",
    "                  loss = 'binary_crossentropy',\n",
    "                  metrics=['accuracy'])\n",
    "\n",
    "generator=ImageDataGenerator(width_shift_range=0.1, height_shift_range=0.1, horizontal_flip=True)\n",
    "#Image data augmentation setting\n",
    "hist=model_res.fit_generator(generator.flow(x_train,y_train,batch_size=128),epoch=5,validation_data=(x_test,y_test))"
   ]
  },
  {
   "cell_type": "code",
   "execution_count": null,
   "metadata": {},
   "outputs": [],
   "source": [
    "# 모델 컴파일 진행 - 아까와 달리 categorical_crossentropy 사용 > label이 숫자형 데이터이므로\n",
    "model_res.compile(optimizer = tf.keras.optimizers.Adam(learning_rate= 0.001),\n",
    "                  loss = 'binary_crossentropy',\n",
    "                  metrics=['accuracy'])"
   ]
  },
  {
   "cell_type": "code",
   "execution_count": null,
   "metadata": {},
   "outputs": [],
   "source": [
    "# 모델 fitting\n",
    "history=model_res.fit(x_train, y_train, epochs = 5, validation_data=(x_test, y_test), batch_size= 256)"
   ]
  },
  {
   "cell_type": "code",
   "execution_count": null,
   "metadata": {},
   "outputs": [],
   "source": [
    "model_res.save(\"ResNet_Transfor_learning.h5\")"
   ]
  },
  {
   "cell_type": "code",
   "execution_count": null,
   "metadata": {},
   "outputs": [],
   "source": [
    "# Evaluate the model\n",
    "test_loss, test_acc = model.evaluate(x_test, y_test)"
   ]
  },
  {
   "cell_type": "code",
   "execution_count": null,
   "metadata": {},
   "outputs": [],
   "source": [
    "import matplotlib.pyplot as plt\n",
    "from tensorflow.keras.applications.resnet50 import decode_predictions\n",
    "\n",
    "for i in range(5):\n",
    "\n",
    "  inputs = x_test[i]\n",
    "  inputs = tf.expand_dims(inputs, axis=0)\n",
    "  x = tf.keras.layers.experimental.preprocessing.Resizing(224, 224)(inputs)\n",
    "  x = tf.keras.applications.resnet50.preprocess_input(x) \n",
    "\n",
    "  preds = model.predict(x)  # ResNet Model의 예측진행\n",
    "\n",
    "  # 예측 실행\n",
    "  fig= plt.figure(figsize=(3,3))\n",
    "  plt.title(decode_predictions(preds, top=1)[0][0][1])# 타이틀에 예측 명 1순위를 넣는다.\n",
    "  plt.imshow(x_test[i])\t# 이미지는 \n",
    "  plt.show()"
   ]
  },
  {
   "cell_type": "code",
   "execution_count": null,
   "metadata": {},
   "outputs": [],
   "source": [
    "# Evaluate the model\n",
    "test_loss, test_acc = model.evaluate(x_test, y_test)"
   ]
  },
  {
   "cell_type": "code",
   "execution_count": null,
   "metadata": {},
   "outputs": [],
   "source": [
    "model.save(\"CNN_Augmentation_model.h5\")"
   ]
  },
  {
   "cell_type": "code",
   "execution_count": null,
   "metadata": {},
   "outputs": [],
   "source": [
    "from keras.models import load_model\n",
    "\n",
    "model=load_model(\"CNN_model.h5\")\n",
    "model.summary()"
   ]
  }
 ],
 "metadata": {
  "kernelspec": {
   "display_name": "finetun",
   "language": "python",
   "name": "python3"
  },
  "language_info": {
   "name": "python",
   "version": "3.8.18"
  }
 },
 "nbformat": 4,
 "nbformat_minor": 2
}
